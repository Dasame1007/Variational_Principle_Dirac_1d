{
 "cells": [
  {
   "cell_type": "code",
   "execution_count": 1,
   "metadata": {},
   "outputs": [],
   "source": [
    "import numpy as np\n",
    "from scipy.linalg import eigvalsh_tridiagonal\n",
    "from matplotlib import pyplot as plt\n",
    "\n",
    "from IPython.display import clear_output"
   ]
  },
  {
   "cell_type": "markdown",
   "metadata": {},
   "source": [
    "# Variational Principle for 1d Dirac Operators\n",
    "\n",
    "### Some theory and notation\n",
    "\n",
    "We are interested in the eigenvalues of the family of 1d Dirac operators $(T(t))_{t\\in J}$ where $J$ is some interval and \n",
    "$$ T(t)\n",
    "   :=\n",
    "   \\begin{pmatrix}\n",
    "      0 & \\frac{\\mathrm d}{\\mathrm d x} \\\\\n",
    "      -\\frac{\\mathrm d}{\\mathrm d x}  & 0\n",
    "   \\end{pmatrix}\n",
    "   +\n",
    "   \\begin{pmatrix}\n",
    "      M_1(x,t), & W(x) \\\\\n",
    "      W(x) & -M_2(x,t)\n",
    "   \\end{pmatrix},\\qquad x\\in \\mathbb{R}.\n",
    "$$\n",
    "We assume that the functions $M_j, W$ satisfy:\n",
    "\n",
    "- For all $t\\in J$, the functions $x\\longmapsto W(x)$ and $x\\longmapsto M_j(x,t)$ are bounded.\n",
    "\n",
    "- For all $t\\in J$, the limits $W_\\pm:=\\lim_{x\\to\\pm\\infty}W(x)$, $M_{j\\pm}(t):=\\lim_{x\\to\\pm\\infty}M_j(x,t)$ exists.\n",
    "\n",
    "- For all $t\\in J$, $-m_2(t)>m_1(t)$ where $m_i(t):=\\inf_{x\\in \\mathbb{R}}M_i(x,t)$.\n",
    "\n",
    "- For all $x\\in\\mathbb{R}$, the function $t\\longmapsto M_1(x,t)$ is continuous and decreasing and $t\\longmapsto M_2(x,t)$ is continuous and increasing.\n",
    "\n",
    "For any given $t\\in J$, the eigenvalues of the operator $T(t)$ in the interval $[m_1(t),\\lambda_{e+}(t))$ coincide (with the same multiplicities) with those of the operator pencil $\\lambda\\longmapsto S(\\lambda,t)$ where\n",
    "$$\\lambda_{e+}(t):=\\min\\left\\{ \\frac{M_{1\\pm}(t) - M_{2\\pm}(t)}{2} + \\sqrt{ \\left( \\frac{M_{1\\pm}(t) + M_{2\\pm}(t)}{2} \\right)^2 + W_\\pm^2}\\right\\},$$\n",
    "and\n",
    "$$S(\\lambda,t):=M_1(x,t)-\\lambda+\\left(\\frac{\\mathrm d}{\\mathrm d x}+W(x)\\right)\\frac{1}{M_2(x,t)+\\lambda}\\left(-\\frac{\\mathrm d}{\\mathrm d x}+W(x)\\right),\\qquad x\\in \\mathbb{R}.$$\n",
    "\n",
    "Moreover, such eigenvalues $\\lambda_n(t)$ are continuous and decreasing in $t$."
   ]
  },
  {
   "cell_type": "markdown",
   "metadata": {},
   "source": [
    "### The method\n",
    "\n",
    "Precision parameters: ``R, n, step, tolerance``\n",
    "\n",
    "We replace $\\mathbb{R}$ with the interval $(-R,R)$ where we set $n-1$ equidistant nodes $x_i$ and work with the associated $L^2$ normalized finite element \"basis\" $\\phi_i$ given by\n",
    "$$h:=\\frac{2 R}{n},\\qquad\\phi(x):=\\frac{\\chi_{[-h,h]}(x)}{\\sqrt{2h/3}}\\left(1-\\frac{|x|}{h}\\right),$$\n",
    "\n",
    "$$\\phi_i(x):=\\phi(x - x_i),\\qquad x_i:=-R + (i+1)h,\\qquad i=0,...,n-2.$$\n",
    "\n",
    "The advantage of this \"basis\" that $\\phi_i,\\phi_j$ have disjointed supports for $|i-j|\\geq2$."
   ]
  },
  {
   "cell_type": "code",
   "execution_count": 2,
   "metadata": {},
   "outputs": [],
   "source": [
    "R = 20\n",
    "n = 1000\n",
    "h = 2 * R / n\n",
    "X = [-R + (i + 1) * h for i in range(n - 1)]"
   ]
  },
  {
   "cell_type": "markdown",
   "metadata": {},
   "source": [
    "We define the functions $M_1(x,t)$, $M_2(x,t)$, $W(x)$, and the corresponding $m_1(t)$, $\\lambda_{e+}(t)$, as well as the quantities $\\langle S(\\lambda,t)\\phi_i,\\phi_i\\rangle$ and $\\langle S(\\lambda,t)\\phi_i,\\phi_{i+1}\\rangle$."
   ]
  },
  {
   "cell_type": "code",
   "execution_count": 3,
   "metadata": {},
   "outputs": [],
   "source": [
    "def M1(x, t):\n",
    "    return 1 - (t / 2) * np.exp(-np.abs(x))\n",
    "\n",
    "\n",
    "def M2(x, t):\n",
    "    return 1 + (t / 2) * np.exp(-np.abs(x))\n",
    "\n",
    "\n",
    "def W(x):\n",
    "    return 0 * np.ones_like(x)\n",
    "\n",
    "\n",
    "def m1(t):\n",
    "    return 1 - (t / 2)\n",
    "\n",
    "\n",
    "def le(t):\n",
    "    return 1 * np.ones_like(t)\n",
    "\n",
    "\n",
    "# These are not the actual integrals but approximations based on piecewise linear\n",
    "# interpolation over the nodes x_i.\n",
    "def S_d(l, t, i):\n",
    "    x = X[i]\n",
    "    return (3 / (2 * h)) * (\n",
    "        (h / 12) * ((M1(x - h, t) - l) + 6 * (M1(x, t) - l) + (M1(x + h, t) - l))\n",
    "        + (1 / h)\n",
    "        * (0.5 / (M2(x - h, t) + l) + 1 / (M2(x, t) + l) + 0.5 / (M2(x + h, t) + l))\n",
    "        + (1 / 3) * (-W(x - h) / (M2(x - h, t) + l) + W(x + h) / (M2(x + h, t) + l))\n",
    "        + (h / 12)\n",
    "        * (\n",
    "            W(x - h) ** 2 / (M2(x - h, t) + l)\n",
    "            + 6 * W(x) ** 2 / (M2(x, t) + l)\n",
    "            + W(x + h) ** 2 / (M2(x + h, t) + l)\n",
    "        )\n",
    "    )\n",
    "\n",
    "\n",
    "def S_e(l, t, i):\n",
    "    x = X[i]\n",
    "    return (3 / (2 * h)) * (\n",
    "        (h / 12) * ((M1(x, t) - l) + (M1(x + h, t) - l))\n",
    "        - (1 / (2 * h)) * (1 / (M2(x, t) + l) + 1 / (M2(x + h, t) + l))\n",
    "        + (1 / 6) * (-W(x) / (M2(x, t) + l) + W(x + h) / (M2(x + h, t) + l))\n",
    "        + (h / 12) * (W(x) ** 2 / (M2(x, t) + l) + W(x + h) ** 2 / (M2(x + h, t) + l))\n",
    "    )"
   ]
  },
  {
   "cell_type": "markdown",
   "metadata": {},
   "source": [
    "For each $(\\lambda,t)$ we construct a symmetric tridiagonal matrix associated to $S(\\lambda,t)$ restricted to our \"basis\". If this matrix has an eigenvalue of absolute value less than ``tolerance``,  then we say that $\\lambda$ is an eigenvalue of $T(t)$. We cover all possible pairs $(t,\\lambda)$ using steps of size ``step``.\n",
    "\n",
    "For the first (left-most) $t\\in J$ we run trough all possible $\\lambda\\in[m_1(t),\\lambda_{e+}(t))$ in search for eigenvalues. However, for all subsequent $t$, knowing that the eigenvalues $\\lambda_n(t)$ are continuous and decreasing in $t$, we only need to look in a neighborhood bellow the previously found eigenvalues, in addition to $\\lambda_{e+}(t)$."
   ]
  },
  {
   "cell_type": "code",
   "execution_count": 4,
   "metadata": {},
   "outputs": [
    {
     "name": "stdout",
     "output_type": "stream",
     "text": [
      "(t, l) = (3.995, 0.024999999999999183)\n",
      "len(T) = 1791\n"
     ]
    }
   ],
   "source": [
    "step = 0.005\n",
    "tolerance = 0.005\n",
    "\n",
    "J = np.arange(0, 4, step)  # interval for t.\n",
    "\n",
    "T = []\n",
    "L = []\n",
    "\n",
    "t = J[0]\n",
    "l = le(t) - step\n",
    "while l >= m1(t):\n",
    "    clear_output(wait=True)\n",
    "    print(\"(t, l) = (\" + str(t) + \", \" + str(l) + \")\")\n",
    "    print(\"len(T) = \" + str(len(T)))\n",
    "\n",
    "    d = np.array([S_d(l, t, i) for i in range(n - 1)])\n",
    "    e = np.array([S_e(l, t, i) for i in range(n - 2)])\n",
    "    w = list(eigvalsh_tridiagonal(d, e, \"v\", [-tolerance, tolerance]))\n",
    "    if len(w) > 0:\n",
    "        T.append(t)\n",
    "        L.append(l)\n",
    "    l -= step\n",
    "\n",
    "for t in J[1:]:\n",
    "    aux = [le(t) - step]\n",
    "    if len(T) > 0:\n",
    "        aux += [L[i] for i in range(len(T)) if T[i] == T[-1]]\n",
    "\n",
    "    neighborhood = []\n",
    "    for i in range(0, 2):\n",
    "        neighborhood += [j - i * step for j in aux]\n",
    "    neighborhood = [i for i in neighborhood if i >= m1(t)]\n",
    "    neighborhood.sort(reverse=True)\n",
    "    neighborhood = set(neighborhood)\n",
    "\n",
    "    for l in neighborhood:\n",
    "        clear_output(wait=True)\n",
    "        print(\"(t, l) = (\" + str(t) + \", \" + str(l) + \")\")\n",
    "        print(\"len(T) = \" + str(len(T)))\n",
    "\n",
    "        d = np.array([S_d(l, t, i) for i in range(n - 1)])\n",
    "        e = np.array([S_e(l, t, i) for i in range(n - 2)])\n",
    "        w = list(eigvalsh_tridiagonal(d, e, \"v\", [-tolerance, tolerance]))\n",
    "        if len(w) > 0:\n",
    "            T.append(t)\n",
    "            L.append(l)"
   ]
  },
  {
   "cell_type": "markdown",
   "metadata": {},
   "source": [
    "We graph!"
   ]
  },
  {
   "cell_type": "code",
   "execution_count": 5,
   "metadata": {},
   "outputs": [
    {
     "data": {
      "image/png": "[encoded data removed]",
      "text/plain": [
       "<Figure size 640x480 with 1 Axes>"
      ]
     },
     "metadata": {},
     "output_type": "display_data"
    }
   ],
   "source": [
    "plt.scatter(J, le(J), s=1, color=\"black\", label=r\"$\\lambda_{e+}(t)$\")\n",
    "plt.scatter(T, L, s=1, label=r\"$\\lambda_n(t)$\")\n",
    "plt.scatter(J, m1(J), s=1, color=\"black\", label=r\"$m_1(t)$\")\n",
    "plt.legend()\n",
    "plt.xlabel(r\"$t$\")\n",
    "plt.ylabel(r\"$\\lambda$\")\n",
    "plt.title(\n",
    "    r\"Eigenvalues $\\lambda_n(t)$ of $T(t)$ in the interval $[m_1(t),\\lambda_{e+}(t))$\"\n",
    ")\n",
    "plt.show()"
   ]
  },
  {
   "cell_type": "markdown",
   "metadata": {},
   "source": [
    "And then save."
   ]
  },
  {
   "cell_type": "code",
   "execution_count": 6,
   "metadata": {},
   "outputs": [],
   "source": [
    "np.savetxt(\"data.csv\", np.column_stack((T, L)), delimiter=\",\", header=\"t,l\")"
   ]
  }
 ],
 "metadata": {
  "kernelspec": {
   "display_name": "base",
   "language": "python",
   "name": "python3"
  },
  "language_info": {
   "codemirror_mode": {
    "name": "ipython",
    "version": 3
   },
   "file_extension": ".py",
   "mimetype": "text/x-python",
   "name": "python",
   "nbconvert_exporter": "python",
   "pygments_lexer": "ipython3",
   "version": "3.12.7"
  }
 },
 "nbformat": 4,
 "nbformat_minor": 2
}
